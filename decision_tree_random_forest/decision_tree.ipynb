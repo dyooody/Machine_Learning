{
 "cells": [
  {
   "cell_type": "code",
   "execution_count": 1,
   "metadata": {},
   "outputs": [],
   "source": [
    "import numpy as np\n",
    "import pandas as pd\n",
    "import math\n",
    "\n",
    "t_x = pd.read_csv(\"pa4_train_X.csv\")\n",
    "t_y = pd.read_csv(\"pa4_train_y.csv\", header = None)\n",
    "d_x = pd.read_csv(\"pa4_dev_X.csv\")\n",
    "d_y = pd.read_csv(\"pa4_dev_y.csv\", header = None)\n",
    "\n",
    "tx = np.asarray(t_x)\n",
    "ty = np.asarray(t_y).flatten()\n",
    "dx = np.asarray(d_x)\n",
    "dy = np.asarray(d_y).flatten()"
   ]
  },
  {
   "cell_type": "code",
   "execution_count": 2,
   "metadata": {},
   "outputs": [],
   "source": [
    "def get_zero_nonzero(feats):\n",
    "\tnonzero_val = np.count_nonzero(feats)\n",
    "\tnonzero_idx = np.nonzero(feats)\n",
    "\tzero_val = np.count_nonzero(feats == 0)\n",
    "\tzero_idx = np.nonzero(feats == 0)\n",
    "\n",
    "\treturn zero_val, zero_idx, nonzero_val, nonzero_idx\n",
    "\n",
    "def each_entropy(v, N):\n",
    "\treturn -(v*1.0/N)*math.log(v*1.0/N, 2)\n",
    "\n",
    "def each_info(v, N, ent):\n",
    "\treturn (v*1.0/N)*ent\n",
    "\n",
    "def entropy_val(v1, v2, N):\n",
    "\tif (v1 == 0 or v2 == 0):\n",
    "\t\treturn 0\n",
    "\tval1 = each_entropy(v1, N)\n",
    "\tval2 = each_entropy(v2, N)\n",
    "\treturn val1 + val2\n",
    "\n",
    "def information_val(v1, ent1, v2, ent2, N):\n",
    "\tval1 = each_info(v1, N, ent1)\n",
    "\tval2 = each_info(v2, N, ent2)\n",
    "\treturn val1 + val2"
   ]
  },
  {
   "cell_type": "code",
   "execution_count": 3,
   "metadata": {},
   "outputs": [],
   "source": [
    "def get_information_gain(col_val, y_val):\n",
    "\tN = len(col_val)\n",
    "\tzero_val, zero_idx, nonzero_val, nonzero_idx = get_zero_nonzero(col_val)\n",
    "\tyz, yz_idx, ynz, ynz_idx = get_zero_nonzero(y_val)\n",
    "\troot_entropy = entropy_val(yz, ynz, len(y_val))\n",
    "\n",
    "\t#consider left branch as zero, right as nonzero\n",
    "\tleft_y = np.take(y_val, zero_idx)\n",
    "\tly_zero, ly_zero_idx, ly_non, ly_non_idx = get_zero_nonzero(left_y)\n",
    "\tleft_entropy = entropy_val(ly_zero, ly_non, zero_val)\n",
    "\t\n",
    "\tright_y = np.take(y_val, nonzero_idx)\n",
    "\try_zero, ry_zero_idx, ry_non, ry_non_idx = get_zero_nonzero(right_y)\n",
    "\tright_entropy = entropy_val(ry_zero, ry_non, nonzero_val)\n",
    "\t\n",
    "\tfeat_entropy = information_val(zero_val, left_entropy, nonzero_val, right_entropy, N)\n",
    "\tinformation_gain = root_entropy - feat_entropy\n",
    "\n",
    "\treturn information_gain, feat_entropy\n"
   ]
  },
  {
   "cell_type": "code",
   "execution_count": 4,
   "metadata": {},
   "outputs": [],
   "source": [
    "def get_attr_node(X_val, y_val, N, d):\n",
    "\tmax_val = -100\n",
    "\tmax_idx = -1\n",
    "\n",
    "\tfor idx in range(d):\n",
    "\t\tcol_val = X_val[:,idx]\n",
    "\t\tinformation_gain, feat_entropy = get_information_gain(col_val, y_val)\n",
    "\n",
    "\t\tif information_gain >= max_val:\n",
    "\t\t\tmax_val = information_gain\n",
    "\t\t\tmax_idx = idx\n",
    "\n",
    "\treturn max_idx, max_val\n",
    "\n",
    "def all_same(items):\n",
    "    return all(x == items[0] for x in items)\n"
   ]
  },
  {
   "cell_type": "code",
   "execution_count": 5,
   "metadata": {},
   "outputs": [],
   "source": [
    "def draw_tree(X_val, y_val, tree_node,max_depth, depth, features):\n",
    "\t\n",
    "\tif len(y_val) == 0:\n",
    "\t\treturn None\n",
    "\telif depth >= max_depth:\n",
    "\t\treturn None #{'leaf' : True}\n",
    "\telif all_same(y_val):\n",
    "\t\treturn {'label': y_val[0]}\n",
    "\telse:\n",
    "\t\tN = X_val.shape[0]\n",
    "\t\td = X_val.shape[1]\n",
    "\n",
    "\t\tatt_idx, info_gain = get_attr_node(X_val, y_val, N, d)\n",
    "\t\t\n",
    "\t\ty_left = y_val[X_val[:,att_idx] == 0]\n",
    "\t\ty_right = y_val[X_val[:,att_idx] == 1]\n",
    "\t\tx_left = X_val[X_val[:,att_idx] == 0]\n",
    "\t\tx_right = X_val[X_val[:,att_idx] == 1]\n",
    "\t\t\n",
    "\t\tly_z, ly_zidx, ly_n, ly_nidx = get_zero_nonzero(y_left)\n",
    "\t\try_z, ry_zidx, ry_n, ry_nidx = get_zero_nonzero(y_right)\n",
    "\t\t\t\n",
    "\t\tz, i, n, ii = get_zero_nonzero(y_val)\n",
    "\t\tif z > n:\n",
    "\t\t\ttemp = 0\n",
    "\t\telse:\n",
    "\t\t\ttemp = 1\n",
    "\t\t\t\n",
    "\t\ttree_node = {'node_index' : att_idx, 'node' : features[att_idx], \n",
    "\t\t'leaf' : False, 'information_gain' : info_gain, 'depth' : depth, 'label' : temp}\n",
    "\n",
    "\t\tdepth += 1\n",
    "\t\ttree_node['left'] = draw_tree(x_left, y_left, {}, max_depth, depth, features)\n",
    "\t\ttree_node['right'] = draw_tree(x_right, y_right, {}, max_depth, depth, features)\n",
    "\n",
    "\t\treturn tree_node\n"
   ]
  },
  {
   "cell_type": "code",
   "execution_count": 7,
   "metadata": {},
   "outputs": [],
   "source": [
    "def prediction(tree, row):\n",
    "\tcur_layer = tree\n",
    "\twhile (cur_layer.get('leaf') == False):\n",
    "\t\tif row[cur_layer['node_index']] == 0 :\n",
    "\t\t\tnext_layer = cur_layer['left']\n",
    "\t\telse:\n",
    "\t\t\tnext_layer = cur_layer['right']\n",
    "\n",
    "\t\tif next_layer == None:\n",
    "\t\t\treturn cur_layer.get('label')\n",
    "\t\telse:\n",
    "\t\t\tcur_layer = next_layer\n",
    "\n",
    "\telse:\n",
    "\t\treturn cur_layer.get('label')"
   ]
  },
  {
   "cell_type": "code",
   "execution_count": 8,
   "metadata": {},
   "outputs": [],
   "source": [
    "def y_prediction(X_val, tree_node):\n",
    "\tN = X_val.shape[0]\n",
    "\tresult = np.zeros(N)\n",
    "\n",
    "\tfor i in range(N):\n",
    "\t\tresult[i] = prediction(tree_node, X_val[i])\n",
    "\treturn result"
   ]
  },
  {
   "cell_type": "code",
   "execution_count": 9,
   "metadata": {},
   "outputs": [],
   "source": [
    "#np.set_printoptions(threshold=np.inf)\n",
    "\n",
    "def cal_accuracy(pred_y, true_y):\n",
    "\tpredict = (true_y == pred_y)\n",
    "\tacc = (float) (np.count_nonzero(predict)) / len(true_y)\n",
    "\n",
    "\treturn acc * 100\n",
    "\n"
   ]
  },
  {
   "cell_type": "code",
   "execution_count": null,
   "metadata": {},
   "outputs": [
    {
     "name": "stdout",
     "output_type": "stream",
     "text": [
      "training accuracy with depth: 2 is : 75.5223880597015\n",
      "validation accuracy with depth: 2 is : 75.91919191919192\n",
      "training accuracy with depth: 5 is : 78.43781094527364\n",
      "validation accuracy with depth: 5 is : 78.64646464646464\n",
      "training accuracy with depth: 10 is : 79.50248756218905\n",
      "validation accuracy with depth: 10 is : 78.30303030303031\n"
     ]
    }
   ],
   "source": [
    "features = t_x.columns\n",
    "\n",
    "import pprint\n",
    "pp = pprint.PrettyPrinter(indent = 4)\n",
    "\n",
    "d_max = [2, 5, 10, 20, 25, 30, 35, 40, 45, 50]\n",
    "tree_node = draw_tree(tx, ty, {}, 30, 0, features)\n",
    "\n",
    "training_accuracy = []\n",
    "validation_accuracy = []\n",
    "\n",
    "for dmax in d_max:\n",
    "\ttree_node = draw_tree(tx, ty, {}, dmax, 0, features)\n",
    "\n",
    "\tt_pred = y_prediction(tx, tree_node)\n",
    "\tt_acc = cal_accuracy(t_pred, ty)\n",
    "\ttraining_accuracy.append(t_acc)\n",
    "\n",
    "\tv_pred = y_prediction(dx, tree_node)\n",
    "\tv_acc = cal_accuracy(v_pred, dy)\n",
    "\tvalidation_accuracy.append(v_acc)\n",
    "\n",
    "\n",
    "\tprint(\"training accuracy with depth: \" +str(dmax) +\" is : \" + str(t_acc))\n",
    "\tprint(\"validation accuracy with depth: \" + str(dmax) + \" is : \" +str(v_acc))"
   ]
  },
  {
   "cell_type": "code",
   "execution_count": null,
   "metadata": {},
   "outputs": [],
   "source": []
  }
 ],
 "metadata": {
  "kernelspec": {
   "display_name": "Python 3",
   "language": "python",
   "name": "python3"
  },
  "language_info": {
   "codemirror_mode": {
    "name": "ipython",
    "version": 3
   },
   "file_extension": ".py",
   "mimetype": "text/x-python",
   "name": "python",
   "nbconvert_exporter": "python",
   "pygments_lexer": "ipython3",
   "version": "3.6.8"
  }
 },
 "nbformat": 4,
 "nbformat_minor": 4
}
