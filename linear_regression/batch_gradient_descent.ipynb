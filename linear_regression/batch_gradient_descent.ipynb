{
 "cells": [
  {
   "cell_type": "code",
   "execution_count": 1,
   "metadata": {},
   "outputs": [],
   "source": [
    "import pandas as pd\n",
    "import numpy as np\n",
    "import time\n",
    "import matplotlib.pyplot as plt\n",
    "\n",
    "dft = pd.read_csv('PA1_train.csv')\n",
    "df_train = dft.drop('id', 1)\n",
    "dfd = pd.read_csv('PA1_dev.csv')\n",
    "df_dev = dfd.drop('id', 1)\n",
    "df_train['year'] = pd.DatetimeIndex(df_train['date']).year\n",
    "df_train['month'] = pd.DatetimeIndex(df_train['date']).month\n",
    "df_train['day'] = pd.DatetimeIndex(df_train['date']).day\n",
    "df_dev['year'] = pd.DatetimeIndex(df_dev['date']).year\n",
    "df_dev['month'] = pd.DatetimeIndex(df_dev['date']).month\n",
    "df_dev['day'] = pd.DatetimeIndex(df_dev['date']).day"
   ]
  },
  {
   "cell_type": "code",
   "execution_count": 2,
   "metadata": {},
   "outputs": [
    {
     "name": "stdout",
     "output_type": "stream",
     "text": [
      "['dummy', 'bedrooms', 'bathrooms', 'sqft_living', 'sqft_lot', 'floors', 'waterfront', 'view', 'condition', 'grade', 'sqft_above', 'sqft_basement', 'yr_built', 'yr_renovated', 'zipcode', 'lat', 'long', 'sqft_living15', 'sqft_lot15', 'price', 'year', 'month', 'day']\n"
     ]
    }
   ],
   "source": [
    "df_train = df_train.drop('date', 1)\n",
    "df_dev = df_dev.drop('date', 1)\n",
    "\n",
    "df_columns = df_train.columns.values\n",
    "list_columns = df_columns.tolist()\n",
    "\n",
    "df_cate_col = ['waterfront', 'grade', 'condition', 'zipcode'] \n",
    "print(list_columns)"
   ]
  },
  {
   "cell_type": "code",
   "execution_count": 3,
   "metadata": {},
   "outputs": [],
   "source": [
    "for i in df_cate_col:\n",
    "  list_columns.remove(i)\n",
    "\n",
    "df_num_col = np.asarray(list_columns)\n",
    "list_columns.remove('price')\n",
    "df_num_col_wo_price = np.asarray(list_columns)\n",
    "\n",
    "#statistic values\n",
    "df_train_num_means = df_train[df_num_col_wo_price].mean()\n",
    "df_train_num_std = df_train[df_num_col_wo_price].std()\n",
    "\n",
    "df_train_num_max = df_train[df_num_col_wo_price].max()\n",
    "df_train_num_min = df_train[df_num_col_wo_price].min()\n",
    "df_train_num_range = df_train_num_max - df_train_num_min"
   ]
  },
  {
   "cell_type": "code",
   "execution_count": 5,
   "metadata": {},
   "outputs": [
    {
     "name": "stdout",
     "output_type": "stream",
     "text": [
      "dummy\n",
      "bedrooms\n"
     ]
    },
    {
     "name": "stderr",
     "output_type": "stream",
     "text": [
      "/nfs/stak/users/ohda/.local/lib/python3.6/site-packages/ipykernel_launcher.py:12: RuntimeWarning: invalid value encountered in long_scalars\n",
      "  if sys.path[0] == '':\n"
     ]
    },
    {
     "name": "stdout",
     "output_type": "stream",
     "text": [
      "bathrooms\n",
      "sqft_living\n",
      "sqft_lot\n",
      "floors\n",
      "view\n",
      "sqft_above\n",
      "sqft_basement\n",
      "yr_built\n",
      "yr_renovated\n",
      "lat\n",
      "long\n",
      "sqft_living15\n",
      "sqft_lot15\n",
      "year\n",
      "month\n",
      "day\n"
     ]
    },
    {
     "name": "stderr",
     "output_type": "stream",
     "text": [
      "/nfs/stak/users/ohda/.local/lib/python3.6/site-packages/ipykernel_launcher.py:28: RuntimeWarning: invalid value encountered in long_scalars\n"
     ]
    }
   ],
   "source": [
    "# Normalizing Data\n",
    "df_norm_fea = [];\n",
    "for i in range(len(df_num_col_wo_price)):\n",
    "  norm_fea = [];\n",
    "  cur_fea = df_num_col_wo_price[i];\n",
    "  print(cur_fea);\n",
    "  max = df_train[cur_fea].max();\n",
    "  min = df_train[cur_fea].min();\n",
    "  range_val = max - min;\n",
    "  for j in range(len(df_train[cur_fea])):\n",
    "    cur_val = df_train[cur_fea][j];\n",
    "    norm = float((cur_val - min) / (range_val) )\n",
    "    norm_fea.append(norm)\n",
    "  df_norm_fea.append(norm_fea)\n",
    "\n",
    "np_norm_fea = np.asarray(df_norm_fea)\n",
    "dict_norm_fea = dict(zip(df_num_col_wo_price, np_norm_fea))\n",
    "\n",
    "df_dev_norm_fea = [];\n",
    "for i in range(len(df_num_col_wo_price)):\n",
    "  norm_fea = [];\n",
    "  cur_fea = df_num_col_wo_price[i];\n",
    "  max = df_dev[cur_fea].max();\n",
    "  min = df_dev[cur_fea].min();\n",
    "  range_val = max - min;\n",
    "  for j in range(len(df_dev[cur_fea])):\n",
    "    cur_val = df_dev[cur_fea][j];\n",
    "    norm = float((cur_val - min) / (range_val) )\n",
    "    norm_fea.append(norm)\n",
    "  df_dev_norm_fea.append(norm_fea)\n",
    "\n",
    "\n",
    "np_dev_norm_fea = np.asarray(df_dev_norm_fea)\n",
    "dict_dev_norm_fea = dict(zip(df_num_col_wo_price, np_dev_norm_fea))"
   ]
  },
  {
   "cell_type": "code",
   "execution_count": 6,
   "metadata": {},
   "outputs": [
    {
     "name": "stderr",
     "output_type": "stream",
     "text": [
      "/nfs/stak/users/ohda/.local/lib/python3.6/site-packages/ipykernel_launcher.py:7: SettingWithCopyWarning: \n",
      "A value is trying to be set on a copy of a slice from a DataFrame.\n",
      "Try using .loc[row_indexer,col_indexer] = value instead\n",
      "\n",
      "See the caveats in the documentation: https://pandas.pydata.org/pandas-docs/stable/user_guide/indexing.html#returning-a-view-versus-a-copy\n",
      "  import sys\n",
      "/nfs/stak/users/ohda/.local/lib/python3.6/site-packages/ipykernel_launcher.py:12: SettingWithCopyWarning: \n",
      "A value is trying to be set on a copy of a slice from a DataFrame.\n",
      "Try using .loc[row_indexer,col_indexer] = value instead\n",
      "\n",
      "See the caveats in the documentation: https://pandas.pydata.org/pandas-docs/stable/user_guide/indexing.html#returning-a-view-versus-a-copy\n",
      "  if sys.path[0] == '':\n"
     ]
    }
   ],
   "source": [
    "df_train_target = df_train['price']\n",
    "df_dev_target = df_dev['price']\n",
    "\n",
    "\n",
    "df_train_trial = df_train[df_num_col_wo_price];\n",
    "for idx in range(1, len(df_num_col_wo_price)):\n",
    "  df_train_trial[df_num_col_wo_price[idx]] = dict_norm_fea[df_num_col_wo_price[idx]]\n",
    "\n",
    "\n",
    "df_dev_trial = df_dev[df_num_col_wo_price]\n",
    "for idx in range(1, len(df_num_col_wo_price)):\n",
    "  df_dev_trial[df_num_col_wo_price[idx]] = dict_dev_norm_fea[df_num_col_wo_price[idx]]\n",
    "\n",
    "\n",
    "for i in range(len(df_cate_col)):\n",
    "  a = pd.get_dummies(df_train[df_cate_col[i]], prefix=df_cate_col[i])\n",
    "  df_train_trial = pd.concat([df_train_trial, a], axis=1)\n",
    "qq = np.zeros(df_train.shape[0])\n",
    "df_train_trial.insert(20, column='grade_3', value=qq)\n",
    "\n",
    "\n",
    "for i in range(len(df_cate_col)):\n",
    "  a = pd.get_dummies(df_dev[df_cate_col[i]], prefix=df_cate_col[i])\n",
    "  df_dev_trial = pd.concat([df_dev_trial, a], axis=1)\n"
   ]
  },
  {
   "cell_type": "code",
   "execution_count": 11,
   "metadata": {},
   "outputs": [],
   "source": [
    "#learning_rate = [10**0, 10**-1, 10**-2, 10**-3, 10**-4, 10**-5, 10**-6, 10**-7]\n",
    "learning_rate = [10**0, 10**-1, 10**-2, 10**-3, 10**-4]\n",
    "\n",
    "epsilon = 0.5\n",
    "\n",
    "def MSE(w, X, y):\n",
    "\tN = X.shape[0];\n",
    "\tresd = np.dot(X,w) - y;\n",
    "\tmse = np.sum((resd**2))/(N) \n",
    "\treturn mse;\n",
    "\n",
    "def get_grad(w, X, y, N, d):\n",
    "  y_pred = np.dot(X,w);\n",
    "  resd = y_pred - y;\n",
    "  grad_vec = (2*np.dot(X.T, resd))/N\n",
    "  return resd, grad_vec;\n",
    "\n",
    "def learning(df_vals, df_target, learning_rate, max_itr):\n",
    "  t = time.time(); \n",
    "  itr_cnt = 0;\n",
    "  mse_norm = 100;\n",
    "  d = df_vals.shape[1];\n",
    "  N = df_vals.shape[0];\n",
    "  w = np.zeros(d);\n",
    "  y = np.array(df_target);\n",
    "  X = np.array(df_vals);\n",
    "\n",
    "  losses = [];\n",
    "  mse_norms = [];\n",
    "\n",
    "  while (mse_norm > epsilon):\n",
    "    itr_cnt += 1;\n",
    "    resd, grad = get_grad(w, X, y, N, d);\n",
    "    w = w - (learning_rate*grad);\n",
    "    loss = np.sum((resd**2))/N\n",
    "    losses.append(loss);\n",
    "    mse_norm = np.linalg.norm(grad);\n",
    "    mse_norms.append(mse_norm)\n",
    "   \n",
    "\n",
    "  elapsed = time.time() - t;\n",
    "  return (mse_norms, losses, itr_cnt, elapsed, w);"
   ]
  },
  {
   "cell_type": "code",
   "execution_count": 12,
   "metadata": {},
   "outputs": [
    {
     "name": "stderr",
     "output_type": "stream",
     "text": [
      "/nfs/stak/users/ohda/.local/lib/python3.6/site-packages/ipykernel_launcher.py:35: RuntimeWarning: overflow encountered in square\n",
      "/nfs/stak/users/ohda/.local/lib/python3.6/site-packages/ipykernel_launcher.py:15: RuntimeWarning: overflow encountered in multiply\n",
      "  from ipykernel import kernelapp as app\n"
     ]
    },
    {
     "name": "stdout",
     "output_type": "stream",
     "text": [
      "MSE of train data with learning rate 1 :  0.0  with iteration:  337\n",
      "MSE of validation data with learning rate 1 :  0.0  with iteration:  337\n"
     ]
    },
    {
     "data": {
      "image/png": "[encoded data removed]",
      "text/plain": [
       "<Figure size 432x288 with 1 Axes>"
      ]
     },
     "metadata": {
      "needs_background": "light"
     },
     "output_type": "display_data"
    },
    {
     "name": "stdout",
     "output_type": "stream",
     "text": [
      "iteration score:  337\n",
      "time took :  0.11575865745544434\n",
      "MSE of train data with learning rate 0.1 :  4.722104004420385  with iteration:  76\n",
      "MSE of validation data with learning rate 0.1 :  4.93271366040207  with iteration:  76\n"
     ]
    },
    {
     "data": {
      "image/png": "[encoded data removed]",
      "text/plain": [
       "<Figure size 432x288 with 1 Axes>"
      ]
     },
     "metadata": {
      "needs_background": "light"
     },
     "output_type": "display_data"
    },
    {
     "name": "stdout",
     "output_type": "stream",
     "text": [
      "iteration score:  76\n",
      "time took :  0.027085542678833008\n",
      "MSE of train data with learning rate 0.01 :  4.760923756658479  with iteration:  748\n",
      "MSE of validation data with learning rate 0.01 :  4.971123606382196  with iteration:  748\n"
     ]
    },
    {
     "data": {
      "image/png": "[encoded data removed]",
      "text/plain": [
       "<Figure size 432x288 with 1 Axes>"
      ]
     },
     "metadata": {
      "needs_background": "light"
     },
     "output_type": "display_data"
    },
    {
     "name": "stdout",
     "output_type": "stream",
     "text": [
      "iteration score:  748\n",
      "time took :  0.24572300910949707\n",
      "MSE of train data with learning rate 0.001 :  4.7631225403489035  with iteration:  7475\n",
      "MSE of validation data with learning rate 0.001 :  4.973321107666561  with iteration:  7475\n"
     ]
    },
    {
     "data": {
      "image/png": "[encoded data removed]",
      "text/plain": [
       "<Figure size 432x288 with 1 Axes>"
      ]
     },
     "metadata": {
      "needs_background": "light"
     },
     "output_type": "display_data"
    },
    {
     "name": "stdout",
     "output_type": "stream",
     "text": [
      "iteration score:  7475\n",
      "time took :  2.334195613861084\n",
      "MSE of train data with learning rate 0.0001 :  4.7633426004894055  with iteration:  74745\n",
      "MSE of validation data with learning rate 0.0001 :  4.973541029158608  with iteration:  74745\n"
     ]
    },
    {
     "data": {
      "image/png": "[encoded data removed]",
      "text/plain": [
       "<Figure size 432x288 with 1 Axes>"
      ]
     },
     "metadata": {
      "needs_background": "light"
     },
     "output_type": "display_data"
    },
    {
     "name": "stdout",
     "output_type": "stream",
     "text": [
      "iteration score:  74745\n",
      "time took :  24.85783839225769\n"
     ]
    }
   ],
   "source": [
    "mse_norms, losses, itr_cnt, elapsed, weights = learning(df_dev_trial, df_dev_target, learning_rate[2], 100000)\n",
    "w_dic = dict(zip(df_dev_trial.columns, weights))\n",
    "dff = pd.DataFrame(w_dic, index=[0])\n",
    "\n",
    "for i in range(len(learning_rate)):\n",
    "  mse_norms, losses, itr_cnt, elapsed, weights = learning(df_train_trial, df_train_target, learning_rate[i], 1000000)\n",
    "  \n",
    "  cur_mse_train = MSE(weights, df_train_trial, df_train_target);\n",
    "  print('MSE of train data with learning rate ' + str(learning_rate[i]) + \" : \", cur_mse_train, \" with iteration: \", itr_cnt);\n",
    "  cur_mse_dev = MSE(weights, df_dev_trial, df_dev_target);\n",
    "  print('MSE of validation data with learning rate ' + str(learning_rate[i]) + \" : \", cur_mse_dev, \" with iteration: \", itr_cnt);\n",
    "\n",
    "  \n",
    "  plt.plot(losses, label=str(learning_rate[i]));\n",
    "  plt.legend();\n",
    "  plt.ylim(-2, 80)\n",
    "  plt.xlim(-500, 30000)\n",
    "  plt.xlabel('iteration count')\n",
    "  plt.ylabel('MSE value')\n",
    "  plt.grid(True)\n",
    "  plt.title('(part1) MSE data with learning rate')\n",
    "  #plt.savefig(str(learning_rate[i])+\"part1_.png\", format='png')\n",
    "  plt.show()\n",
    "  \n",
    "  print('iteration score: ', itr_cnt)\n",
    "  print('time took : ', elapsed)"
   ]
  },
  {
   "cell_type": "code",
   "execution_count": null,
   "metadata": {},
   "outputs": [],
   "source": []
  }
 ],
 "metadata": {
  "kernelspec": {
   "display_name": "Python 3",
   "language": "python",
   "name": "python3"
  },
  "language_info": {
   "codemirror_mode": {
    "name": "ipython",
    "version": 3
   },
   "file_extension": ".py",
   "mimetype": "text/x-python",
   "name": "python",
   "nbconvert_exporter": "python",
   "pygments_lexer": "ipython3",
   "version": "3.6.8"
  }
 },
 "nbformat": 4,
 "nbformat_minor": 4
}
